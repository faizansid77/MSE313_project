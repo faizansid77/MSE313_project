{
  "nbformat": 4,
  "nbformat_minor": 0,
  "metadata": {
    "colab": {
      "name": "MSE313 Project",
      "provenance": [],
      "collapsed_sections": [],
      "include_colab_link": true
    },
    "kernelspec": {
      "name": "python3",
      "display_name": "Python 3"
    }
  },
  "cells": [
    {
      "cell_type": "markdown",
      "metadata": {
        "id": "view-in-github",
        "colab_type": "text"
      },
      "source": [
        "<a href=\"https://colab.research.google.com/github/faizansid77/MSE313_project/blob/master/MSE313_Project.ipynb\" target=\"_parent\"><img src=\"https://colab.research.google.com/assets/colab-badge.svg\" alt=\"Open In Colab\"/></a>"
      ]
    },
    {
      "cell_type": "code",
      "metadata": {
        "id": "E4TAdsKA7lWW",
        "colab_type": "code",
        "colab": {}
      },
      "source": [
        "import math\n",
        "import numpy as np\n",
        "from matplotlib import pyplot as plt\n",
        "import random\n",
        "import queue"
      ],
      "execution_count": 0,
      "outputs": []
    },
    {
      "cell_type": "code",
      "metadata": {
        "id": "jJ-sx1Fc_BsT",
        "colab_type": "code",
        "colab": {}
      },
      "source": [
        "size_r = 45\n",
        "size_c = 45\n",
        "size_vac = 10\n",
        "last_plane = (size_r - size_vac - 1, int(size_c/2.0))"
      ],
      "execution_count": 0,
      "outputs": []
    },
    {
      "cell_type": "code",
      "metadata": {
        "id": "N6yuSvAU8FxF",
        "colab_type": "code",
        "colab": {
          "base_uri": "https://localhost:8080/",
          "height": 34
        },
        "outputId": "9407e9bc-ed46-4bef-9b7e-f984e1fb4447"
      },
      "source": [
        "lat = np.zeros((size_r, size_c), dtype=int)\n",
        "lat[last_plane[0]:, last_plane[1]] = 2 # empty cells\n",
        "lat[:last_plane[0], last_plane[1]] = 1 # half plane\n",
        "vac = np.random.randint(0, size_r), np.random.randint(0, size_c)\n",
        "lat[vac] = -1\n",
        "print(vac)"
      ],
      "execution_count": 240,
      "outputs": [
        {
          "output_type": "stream",
          "text": [
            "(36, 30)\n"
          ],
          "name": "stdout"
        }
      ]
    },
    {
      "cell_type": "code",
      "metadata": {
        "id": "u_3xJpnI6lAf",
        "colab_type": "code",
        "colab": {}
      },
      "source": [
        "def display(lat):\n",
        "    fig = plt.figure(figsize=(5, 5))\n",
        "    ax = fig.add_subplot(111)\n",
        "    ax.imshow(lat, origin='upper')"
      ],
      "execution_count": 0,
      "outputs": []
    },
    {
      "cell_type": "code",
      "metadata": {
        "id": "dXK8cdDg6qKV",
        "colab_type": "code",
        "outputId": "ff6c9ddd-cc2b-4ae7-fe00-5bd44d9ffc60",
        "colab": {
          "base_uri": "https://localhost:8080/",
          "height": 323
        }
      },
      "source": [
        "display(lat)"
      ],
      "execution_count": 242,
      "outputs": [
        {
          "output_type": "display_data",
          "data": {
            "image/png": "[encoded data removed]",
            "text/plain": [
              "<Figure size 360x360 with 1 Axes>"
            ]
          },
          "metadata": {
            "tags": []
          }
        }
      ]
    },
    {
      "cell_type": "code",
      "metadata": {
        "id": "05AvdMVp9tOt",
        "colab_type": "code",
        "colab": {}
      },
      "source": [
        "class RRT:\n",
        "    class Node:\n",
        "        def __init__(self, x, y):\n",
        "            self.x = x\n",
        "            self.y = y\n",
        "            self.path_x = []\n",
        "            self.path_y = []\n",
        "            self.parent = None\n",
        "\n",
        "    def __init__(self, start, goal, grid,\n",
        "                 expand_dis=1, goal_sample_rate=5, max_iter=2000):\n",
        "        self.start = self.Node(start[0], start[1])\n",
        "        self.end = self.Node(goal[0], goal[1])\n",
        "        self.grid = grid\n",
        "        self.expand_dis = expand_dis\n",
        "        self.goal_sample_rate = goal_sample_rate\n",
        "        self.max_iter = max_iter\n",
        "        self.node_list = []\n",
        "        self.final_path = []\n",
        "\n",
        "    def swap(self, p1, p2):\n",
        "        temp = self.grid[p1[0], p1[1]]\n",
        "        self.grid[p1[0], p1[1]] = self.grid[p2[0], p2[1]]\n",
        "        self.grid[p2[0], p2[1]] = temp\n",
        "\n",
        "    def movement(self):\n",
        "        for i in range(len(self.final_path)-1):\n",
        "            self.swap(self.final_path[i], self.final_path[i+1])\n",
        "\n",
        "    def planning(self):\n",
        "        self.node_list = [self.start]\n",
        "        for i in range(self.max_iter):\n",
        "            rnd_node = self.get_random_node()\n",
        "            nearest_ind = self.get_nearest_node_index(self.node_list, rnd_node)\n",
        "            nearest_node = self.node_list[nearest_ind]\n",
        "\n",
        "            new_node = self.steer(nearest_node, rnd_node, self.expand_dis)\n",
        "\n",
        "            if self.check_collision(new_node, self.grid):\n",
        "                self.node_list.append(new_node)\n",
        "                \n",
        "            if self.calc_dist_to_goal(self.node_list[-1].x, self.node_list[-1].y) == self.expand_dis:\n",
        "                final_node = self.steer(self.node_list[-1], self.end, self.expand_dis)\n",
        "                if self.check_collision(final_node, self.grid):\n",
        "                    self.final_path = self.generate_final_course(len(self.node_list) - 1)\n",
        "                    return\n",
        "\n",
        "        self.final_path = None  # cannot find path\n",
        "\n",
        "    def steer(self, from_node, to_node, extend_length):\n",
        "\n",
        "        new_node = self.Node(from_node.x, from_node.y)\n",
        "        d, theta = self.calc_distance_and_angle(new_node, to_node)\n",
        "\n",
        "        new_node.path_x = [new_node.x]\n",
        "        new_node.path_y = [new_node.y]\n",
        "\n",
        "        if math.radians(-45) <= theta < math.radians(45):\n",
        "            dir_x = 1\n",
        "            dir_y = 0\n",
        "        elif math.radians(45) <= theta < math.radians(135):\n",
        "            dir_x = 0\n",
        "            dir_y = 1\n",
        "        elif math.radians(135) <= theta < math.radians(225):\n",
        "            dir_x = -1\n",
        "            dir_y = 0\n",
        "        else:\n",
        "            dir_x = 0\n",
        "            dir_y = -1\n",
        "        new_node.x += dir_x\n",
        "        new_node.y += dir_y\n",
        "\n",
        "        new_node.path_x.append(to_node.x)\n",
        "        new_node.path_y.append(to_node.y)\n",
        "\n",
        "        new_node.parent = from_node\n",
        "\n",
        "        return new_node\n",
        "\n",
        "    def generate_final_course(self, goal_ind):\n",
        "        path = [[self.end.x, self.end.y]]\n",
        "        node = self.node_list[goal_ind]\n",
        "        while node.parent is not None:\n",
        "            path.append([node.x, node.y])\n",
        "            node = node.parent\n",
        "        path.append([node.x, node.y])\n",
        "\n",
        "        return path\n",
        "\n",
        "    def calc_dist_to_goal(self, x, y):\n",
        "        dx = x - self.end.x\n",
        "        dy = y - self.end.y\n",
        "        return math.sqrt(dx ** 2 + dy ** 2)\n",
        "\n",
        "    def get_random_node(self):\n",
        "        if random.randint(0, 100) > self.goal_sample_rate:\n",
        "            rnd = self.Node(int(random.uniform(0, self.grid.shape[0])),\n",
        "                            int(random.uniform(0, self.grid.shape[1])))\n",
        "        else:  # goal point sampling\n",
        "            rnd = self.Node(self.end.x, self.end.y)\n",
        "        return rnd\n",
        "\n",
        "    @staticmethod\n",
        "    def get_nearest_node_index(node_list, rnd_node):\n",
        "        dlist = [(node.x - rnd_node.x) ** 2 + (node.y - rnd_node.y)\n",
        "                 ** 2 for node in node_list]\n",
        "        minind = dlist.index(min(dlist))\n",
        "\n",
        "        return minind\n",
        "\n",
        "    @staticmethod\n",
        "    def check_collision(node, grid):\n",
        "        for i in range(len(node.path_x)):\n",
        "            if grid[node.path_x[i], node.path_y[i]] == 1 or grid[node.path_x[i], node.path_y[i]] == 2:\n",
        "                return False\n",
        "\n",
        "        return True  # safe\n",
        "\n",
        "    @staticmethod\n",
        "    def calc_distance_and_angle(from_node, to_node):\n",
        "        dx = to_node.x - from_node.x\n",
        "        dy = to_node.y - from_node.y\n",
        "        d = math.sqrt(dx ** 2 + dy ** 2)\n",
        "        theta = math.atan2(dy, dx)\n",
        "        return d, theta"
      ],
      "execution_count": 0,
      "outputs": []
    },
    {
      "cell_type": "code",
      "metadata": {
        "id": "w0hfm4LsAUF8",
        "colab_type": "code",
        "colab": {}
      },
      "source": [
        "lat[last_plane[0], last_plane[1]] = 3 # last half plane cell\n",
        "rrt = RRT(start=last_plane, goal=vac, grid=lat)\n",
        "rrt.planning()\n",
        "rrt.movement()\n",
        "lat_mov = rrt.grid\n",
        "for i in range(size_r):\n",
        "    for j in range(size_c):\n",
        "        if lat[i, j] == 3:\n",
        "            lat[i, j] = 1"
      ],
      "execution_count": 0,
      "outputs": []
    },
    {
      "cell_type": "code",
      "metadata": {
        "id": "NGM3b-BfEwRS",
        "colab_type": "code",
        "colab": {
          "base_uri": "https://localhost:8080/",
          "height": 323
        },
        "outputId": "f32dfdd2-540b-4f19-c959-5f28dd2b9ddb"
      },
      "source": [
        "display(lat_mov)"
      ],
      "execution_count": 245,
      "outputs": [
        {
          "output_type": "display_data",
          "data": {
            "image/png": "[encoded data removed]",
            "text/plain": [
              "<Figure size 360x360 with 1 Axes>"
            ]
          },
          "metadata": {
            "tags": []
          }
        }
      ]
    },
    {
      "cell_type": "code",
      "metadata": {
        "id": "nG_XuxCOKhv7",
        "colab_type": "code",
        "outputId": "c5218b94-56fe-4ca3-daa7-79903448a91d",
        "colab": {
          "base_uri": "https://localhost:8080/",
          "height": 323
        }
      },
      "source": [
        "path_disp = np.copy(lat_mov)\n",
        "for i in path:\n",
        "    path_disp[i[0], i[1]] = 5\n",
        "display(path_disp)"
      ],
      "execution_count": 246,
      "outputs": [
        {
          "output_type": "display_data",
          "data": {
            "image/png": "[encoded data removed]",
            "text/plain": [
              "<Figure size 360x360 with 1 Axes>"
            ]
          },
          "metadata": {
            "tags": []
          }
        }
      ]
    },
    {
      "cell_type": "code",
      "metadata": {
        "id": "JUlSnakjYlMK",
        "colab_type": "code",
        "colab": {}
      },
      "source": [
        ""
      ],
      "execution_count": 0,
      "outputs": []
    }
  ]
}